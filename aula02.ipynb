{
  "nbformat": 4,
  "nbformat_minor": 0,
  "metadata": {
    "colab": {
      "provenance": [],
      "authorship_tag": "ABX9TyPpumG+eQlP6ufpBrAz/u0e",
      "include_colab_link": true
    },
    "kernelspec": {
      "name": "python3",
      "display_name": "Python 3"
    },
    "language_info": {
      "name": "python"
    }
  },
  "cells": [
    {
      "cell_type": "markdown",
      "metadata": {
        "id": "view-in-github",
        "colab_type": "text"
      },
      "source": [
        "<a href=\"https://colab.research.google.com/github/Vitr0ola/Python/blob/main/aula02.ipynb\" target=\"_parent\"><img src=\"https://colab.research.google.com/assets/colab-badge.svg\" alt=\"Open In Colab\"/></a>"
      ]
    },
    {
      "cell_type": "code",
      "execution_count": null,
      "metadata": {
        "colab": {
          "base_uri": "https://localhost:8080/"
        },
        "id": "eqUkRkJK2uEq",
        "outputId": "f6494b67-0391-45b0-cdbf-0808c964556a"
      },
      "outputs": [
        {
          "output_type": "stream",
          "name": "stdout",
          "text": [
            "<class 'str'>\n",
            "131992165753648\n"
          ]
        }
      ],
      "source": [
        "nome = str('gilberto')\n",
        "print(type(nome))\n",
        "\n",
        "ano = int(2024)\n",
        "print(id(ano))\n",
        "\n"
      ]
    },
    {
      "cell_type": "code",
      "source": [
        "print(nome.upper())\n",
        "\n",
        "nome = nome.upper()\n",
        "print(id(nome))"
      ],
      "metadata": {
        "colab": {
          "base_uri": "https://localhost:8080/"
        },
        "id": "Gasy_p6Y8Rav",
        "outputId": "c63beae6-266f-442b-e866-5a3fcc3fffbc"
      },
      "execution_count": null,
      "outputs": [
        {
          "output_type": "stream",
          "name": "stdout",
          "text": [
            "GILBERTO\n",
            "131991314450992\n"
          ]
        }
      ]
    },
    {
      "cell_type": "code",
      "source": [
        "print(nome.replace('G','X').replace('E','Y').lower())\n",
        "\n",
        "\n"
      ],
      "metadata": {
        "colab": {
          "base_uri": "https://localhost:8080/"
        },
        "id": "IDqhmrtwAGCR",
        "outputId": "152a933b-b8b8-4b03-ed2f-eaa16e58fccd"
      },
      "execution_count": null,
      "outputs": [
        {
          "output_type": "stream",
          "name": "stdout",
          "text": [
            "xilbyrto\n"
          ]
        }
      ]
    },
    {
      "cell_type": "code",
      "source": [
        "produto = str('banana')\n",
        "print(produto.count('a'))\n"
      ],
      "metadata": {
        "colab": {
          "base_uri": "https://localhost:8080/"
        },
        "id": "PZcMruCpDszJ",
        "outputId": "a2032fb3-e026-487d-dc7d-0e389b573b2b"
      },
      "execution_count": null,
      "outputs": [
        {
          "output_type": "stream",
          "name": "stdout",
          "text": [
            "3\n"
          ]
        }
      ]
    },
    {
      "cell_type": "code",
      "source": [
        "tamanho = len(produto)\n",
        "print(tamanho)\n"
      ],
      "metadata": {
        "colab": {
          "base_uri": "https://localhost:8080/"
        },
        "id": "URkxiszGEPph",
        "outputId": "21c277bc-8b45-4f09-ffc3-bbed30f75d61"
      },
      "execution_count": null,
      "outputs": [
        {
          "output_type": "stream",
          "name": "stdout",
          "text": [
            "6\n"
          ]
        }
      ]
    },
    {
      "cell_type": "code",
      "source": [
        "print(nome == 'GILBERTO' or produto == 'maça')\n",
        "\n",
        "\n",
        "\n"
      ],
      "metadata": {
        "colab": {
          "base_uri": "https://localhost:8080/"
        },
        "id": "Mwfpez7CH6cx",
        "outputId": "16d43ed2-5551-4992-9e39-2be0d54123af"
      },
      "execution_count": null,
      "outputs": [
        {
          "output_type": "stream",
          "name": "stdout",
          "text": [
            "True\n"
          ]
        }
      ]
    }
  ]
}